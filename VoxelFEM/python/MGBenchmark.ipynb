{
 "cells": [
  {
   "cell_type": "code",
   "execution_count": null,
   "metadata": {},
   "outputs": [],
   "source": [
    "import pyVoxelFEM\n",
    "import MeshFEM, mesh\n",
    "import numpy as np\n",
    "import matplotlib.pyplot as plt\n",
    "from tri_mesh_viewer import QuadHexViewer\n",
    "import time\n",
    "import copy\n",
    "import benchmark\n",
    "\n",
    "# Helpers\n",
    "import sys\n",
    "sys.path.append('./helpers')\n",
    "from ipopt_helpers import initializeTensorProductSimulator, problemObjectWrapper, initializeIpoptProblem"
   ]
  },
  {
   "cell_type": "code",
   "execution_count": null,
   "metadata": {},
   "outputs": [],
   "source": [
    "import parallelism, psutil\n",
    "parallelism.set_max_num_tbb_threads(psutil.cpu_count(logical=False))\n",
    "parallelism.set_hessian_assembly_num_threads(min(psutil.cpu_count(logical=False), 4))\n",
    "parallelism.set_gradient_assembly_num_threads(min(psutil.cpu_count(logical=False), 8))"
   ]
  },
  {
   "cell_type": "code",
   "execution_count": null,
   "metadata": {},
   "outputs": [],
   "source": [
    "import gzip\n",
    "d1 = np.load(gzip.open('data/test_densities_3D.npy.gz', 'r'))"
   ]
  },
  {
   "cell_type": "code",
   "execution_count": null,
   "metadata": {},
   "outputs": [],
   "source": [
    "MATERIAL_PATH = '../examples/materials/B9Creator.material'\n",
    "BC_PATH = '../examples/bcs/3D/cantilever_flexion_E.bc'  # 3D cantilever configuration\n",
    "\n",
    "orderFEM = [1, 1, 1]\n",
    "domainCorners = [[0, 0, 0], [2, 1, 1]]\n",
    "gridDimensions = [64, 32, 32]\n",
    "E0 = 1\n",
    "Emin = 1e-9\n",
    "SIMPExponent = 3\n",
    "\n",
    "# Constraints\n",
    "maxVolume = 0.6\n",
    "constraints = [pyVoxelFEM.TotalVolumeConstraint(maxVolume)]\n",
    "\n",
    "# Filters: comment a line to remove the corresponding filter\n",
    "filters = [\n",
    "    pyVoxelFEM.SmoothingFilter(),\n",
    "    pyVoxelFEM.ProjectionFilter(),\n",
    "]"
   ]
  },
  {
   "cell_type": "code",
   "execution_count": null,
   "metadata": {},
   "outputs": [],
   "source": [
    "benchmark.reset()\n",
    "# Initializations\n",
    "tps = initializeTensorProductSimulator(\n",
    "    orderFEM, domainCorners, gridDimensions, maxVolume, E0, Emin, SIMPExponent, MATERIAL_PATH, BC_PATH\n",
    ")\n",
    "objective = pyVoxelFEM.MultigridComplianceObjective(tps.multigridSolver(2))\n",
    "benchmark.report()"
   ]
  },
  {
   "cell_type": "code",
   "execution_count": null,
   "metadata": {},
   "outputs": [],
   "source": [
    "top = pyVoxelFEM.TopologyOptimizationProblem(tps, objective, constraints, filters) # TO problem"
   ]
  },
  {
   "cell_type": "code",
   "execution_count": null,
   "metadata": {},
   "outputs": [],
   "source": [
    "objective.mgSmoothingIterations = 2\n",
    "objective.mgIterations = 1\n",
    "objective.fullMultigrid = True\n",
    "objective.cgIter = 1000"
   ]
  },
  {
   "cell_type": "code",
   "execution_count": null,
   "metadata": {},
   "outputs": [],
   "source": [
    "import parallelism, psutil\n",
    "parallelism.set_max_num_tbb_threads(psutil.cpu_count(logical=False))\n",
    "parallelism.set_hessian_assembly_num_threads(min(psutil.cpu_count(logical=False), 4))\n",
    "parallelism.set_gradient_assembly_num_threads(min(psutil.cpu_count(logical=False), 8))"
   ]
  },
  {
   "cell_type": "code",
   "execution_count": null,
   "metadata": {},
   "outputs": [],
   "source": [
    "# Compute \"ground truth\" (E_min = 1e-9) to high accuracy\n",
    "ground_truth_u = []\n",
    "ground_truth_compliance = []\n",
    "tps.E_min = 1e-9\n",
    "objective.tol = 1e-8\n",
    "for i in range(100):\n",
    "    top.setVars(d1[i, :, :, :].ravel())\n",
    "    ground_truth_u.append(objective.u())\n",
    "    ground_truth_compliance.append(objective.compliance())"
   ]
  },
  {
   "cell_type": "code",
   "execution_count": null,
   "metadata": {},
   "outputs": [],
   "source": [
    "E_mins = [1e-2, 1e-3, 1e-4, 1e-5, 1e-6, 1e-7, 1e-8]\n",
    "def runAnalysis(cgtol):\n",
    "    \"\"\"\n",
    "    Plot the convergence benchmark statistics for a given CG tolerance\n",
    "    and return the total number of CG iterations taken across the bechmark dataset\n",
    "    for each E_min setting.\n",
    "    \"\"\"\n",
    "    objective.tol = cgtol\n",
    "    \n",
    "    from collections import defaultdict\n",
    "    residuals = []\n",
    "    u_errors = defaultdict(list)\n",
    "    compliance_errors = defaultdict(list)\n",
    "    residual_lens = defaultdict(list)\n",
    "    objective.residual_cb = lambda it, r: residuals[-1].append(r)\n",
    "    for E_min in E_mins:\n",
    "        tps.E_min = E_min\n",
    "        for i in range(100):\n",
    "            residuals.append([])\n",
    "            top.setVars(d1[i, :, :, :].ravel())\n",
    "            u_errors[E_min].append(np.linalg.norm((objective.u() - ground_truth_u[i]).ravel()) / np.linalg.norm(ground_truth_u[i].ravel()))\n",
    "            compliance_errors[E_min].append(abs((objective.compliance() - ground_truth_compliance[i])/ground_truth_compliance[i]))\n",
    "            residual_lens[E_min].append(len(residuals[-1]))\n",
    "            \n",
    "    fig = plt.figure(figsize=[12,4])\n",
    "    plt.subplot(1, 3, 1)\n",
    "    for k in E_mins: plt.semilogy(u_errors[k][1:], label=f'E_min = {k:0.0e}')\n",
    "    plt.title('Displacement error')\n",
    "    plt.subplot(1, 3, 2)\n",
    "    for k in E_mins: plt.semilogy(compliance_errors[k][1:], label=f'E_min = {k:0.0e}')\n",
    "    plt.title('Compliance error')\n",
    "    plt.subplot(1, 3, 3)\n",
    "    for k in E_mins: plt.plot(residual_lens[k], label=f'E_min = {k:0.0e}')\n",
    "    handles, labels = plt.gca().get_legend_handles_labels()\n",
    "    plt.title('CG iterations')\n",
    "    fig.legend(handles, labels)\n",
    "    plt.suptitle(f'MG Solver Analysis for CG tol {cgtol}')\n",
    "    plt.savefig(f'mg_analysis_tol{cgtol:0.0e}.png')\n",
    "    plt.close()\n",
    "    return [np.sum(residual_lens[k]) for k in E_mins]"
   ]
  },
  {
   "cell_type": "code",
   "execution_count": null,
   "metadata": {},
   "outputs": [],
   "source": [
    "def runForZeroinit(zeroinit):\n",
    "    objective.zeroInit = zeroinit\n",
    "    name = \"zeroInit\" if zeroinit else \"prevInit\"\n",
    "    top.setVars(d1[0, :, :, :].ravel())\n",
    "    \n",
    "    cg_tols = [1e-2, 1e-3, 1e-4, 1e-5, 1e-6, 1e-7, 1e-8]\n",
    "    total_cg_iters = []\n",
    "    for tol in cg_tols: total_cg_iters.append(runAnalysis(tol))\n",
    "    plt.imsave(f'mg_analysis_summary_{name}.png', np.concatenate([plt.imread(f'mg_analysis_tol{tol}.png') for tol in cg_tols]))\n",
    "\n",
    "    for i, tol in enumerate(cg_tols):\n",
    "        plt.semilogx(E_mins, total_cg_iters[i], label=f'cg tol = {tol}')\n",
    "    plt.xlabel('E_min')\n",
    "    plt.ylabel('total CG iterations')\n",
    "    plt.legend()\n",
    "    plt.savefig(f'cg_iter_summary_{name}.png')"
   ]
  },
  {
   "cell_type": "code",
   "execution_count": null,
   "metadata": {},
   "outputs": [],
   "source": [
    "runForZeroinit(False)"
   ]
  },
  {
   "cell_type": "code",
   "execution_count": null,
   "metadata": {},
   "outputs": [],
   "source": [
    "runForZeroinit(True)"
   ]
  },
  {
   "cell_type": "markdown",
   "metadata": {},
   "source": [
    "# Standalone benchmark runs"
   ]
  },
  {
   "cell_type": "code",
   "execution_count": null,
   "metadata": {},
   "outputs": [],
   "source": [
    "tps.E_min = 1e-5\n",
    "objective.tol = 1e-5\n",
    "objective.zeroInit = False\n",
    "objective.mgSmoothingIterations = 2\n",
    "benchmark.reset()\n",
    "for i in range(100): top.setVars(d1[i, :, :, :].ravel())\n",
    "benchmark.report()"
   ]
  }
 ],
 "metadata": {
  "kernelspec": {
   "display_name": "Python 3",
   "language": "python",
   "name": "python3"
  },
  "language_info": {
   "codemirror_mode": {
    "name": "ipython",
    "version": 3
   },
   "file_extension": ".py",
   "mimetype": "text/x-python",
   "name": "python",
   "nbconvert_exporter": "python",
   "pygments_lexer": "ipython3",
   "version": "3.8.10"
  }
 },
 "nbformat": 4,
 "nbformat_minor": 4
}
