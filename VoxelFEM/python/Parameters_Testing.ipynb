{
 "cells": [
  {
   "cell_type": "code",
   "execution_count": null,
   "metadata": {},
   "outputs": [],
   "source": [
    "import sys\n",
    "import pyVoxelFEM\n",
    "import MeshFEM, mesh\n",
    "from tri_mesh_viewer import QuadHexViewer\n",
    "\n",
    "sys.path.append('./helpers')\n",
    "from ipopt_helpers import initializeTensorProductSimulator, problemObjectWrapper, initializeIpoptProblem\n",
    "\n",
    "import numpy as np\n",
    "import matplotlib.pyplot as plt\n",
    "import ipopt\n",
    "import time\n",
    "\n",
    "# matplotlib default\n",
    "FONTSIZE = 12\n",
    "FIGSIZE = (9, 6)\n",
    "plt.rcParams.update({'font.size': FONTSIZE})\n",
    "plt.rcParams.update({\"figure.figsize\": FIGSIZE})"
   ]
  },
  {
   "cell_type": "markdown",
   "metadata": {},
   "source": [
    "# Optimize in batches\n",
    "Define optimization batches by their number of iterations. In each batch, filters can be reinitialized modifying their parameters or even adding or removing them from the TO problem."
   ]
  },
  {
   "cell_type": "code",
   "execution_count": null,
   "metadata": {},
   "outputs": [],
   "source": [
    "# 2D or 3D?\n",
    "DIM = 3\n",
    "\n",
    "# Material and \"boundary conditions\" (can be imposed also inside the domain) are read from file\n",
    "MATERIAL_PATH = '../examples/materials/B9Creator.material'\n",
    "if DIM == 2:\n",
    "    BC_PATH = '../examples/bcs/cantilever_flexion_E.bc'\n",
    "elif DIM == 3:\n",
    "    BC_PATH = '../examples/bcs/3D/cantilever_flexion_SE.bc'\n",
    "\n",
    "# TensorProductSimulator\n",
    "if DIM == 2:\n",
    "    orderFEM = [1, 1]\n",
    "    domainCorners = [[0, 0], [2, 1]]\n",
    "    gridDimensions = [60,, 30]\n",
    "elif DIM == 3:\n",
    "    orderFEM = [1, 1, 1]\n",
    "    domainCorners = [[0, 0, 0], [3, 1, 1]]\n",
    "    gridDimensions = [24, 8, 8]\n",
    "elementsNumber = int(np.prod(gridDimensions))\n",
    "uniformDensity = 1.0\n",
    "E0 = 1\n",
    "Emin = 1e-9\n",
    "SIMPExponent = 3\n",
    "\n",
    "# Constraints\n",
    "maxVolume = 0.4\n",
    "constraints = [pyVoxelFEM.TotalVolumeConstraint(maxVolume)]\n",
    "\n",
    "# Topology Optimization problem\n",
    "uniformDensity = maxVolume"
   ]
  },
  {
   "cell_type": "code",
   "execution_count": null,
   "metadata": {
    "scrolled": false
   },
   "outputs": [],
   "source": [
    "# Optimization batches setup\n",
    "itersBatches = np.array([         20,     10,     10,     20])\n",
    "smoothingBatches = np.array([      1,      2,      3,      1])\n",
    "projectionBatches = np.array([ False,      1,      2,      4])\n",
    "langelaarBatches = np.array([   True,   True,   True,   True])\n",
    "totalIters = np.sum(itersBatches)\n",
    "if not (itersBatches.size == smoothingBatches.size == projectionBatches.size == langelaarBatches.size):\n",
    "    raise ValueError(\"All the batches must have the same size.\")\n",
    "\n",
    "# Simulator and objective initialization\n",
    "tps = initializeTensorProductSimulator(\n",
    "    orderFEM, domainCorners, gridDimensions, uniformDensity, E0, Emin, SIMPExponent, MATERIAL_PATH, BC_PATH\n",
    ")\n",
    "objective = pyVoxelFEM.ComplianceObjective(tps)\n",
    "x0 = tps.getDensities()\n",
    "history = []\n",
    "\n",
    "# Optimization loop\n",
    "pyVoxelFEM.benchmark_reset() # profile\n",
    "for batch in range(len(itersBatches)):\n",
    "    # Filters initialization\n",
    "    filters = []\n",
    "    if smoothingBatches[batch] != False:\n",
    "        filters.append(pyVoxelFEM.SmoothingFilter())\n",
    "    if projectionBatches[batch] != False:\n",
    "        filters.append(pyVoxelFEM.ProjectionFilter())\n",
    "    if langelaarBatches[batch] != False:\n",
    "        filters.append(pyVoxelFEM.LangelaarFilter())\n",
    "    # Problem initialization\n",
    "    top = pyVoxelFEM.TopologyOptimizationProblem(tps, objective, constraints, filters)\n",
    "    nonLinearProblem, history = initializeIpoptProblem(top, history)\n",
    "    nonLinearProblem.addOption('tol', 1e-16)\n",
    "    # Filters update\n",
    "    for filt in filters:\n",
    "        if type(filt) == pyVoxelFEM.SmoothingFilter:\n",
    "            filt.radius = smoothingBatches[batch]\n",
    "        elif type(filt) == pyVoxelFEM.ProjectionFilter:\n",
    "            filt.beta = projectionBatches[batch]\n",
    "    # Optimize\n",
    "    nonLinearProblem.addOption('max_iter', int(itersBatches[batch])-1)\n",
    "    x0, info = nonLinearProblem.solve(x0)\n",
    "pyVoxelFEM.benchmark_report()"
   ]
  },
  {
   "cell_type": "code",
   "execution_count": null,
   "metadata": {},
   "outputs": [],
   "source": [
    "view = QuadHexViewer(*tps.getMesh(), scalarField=np.ones(x0.shape))\n",
    "view.show()"
   ]
  },
  {
   "cell_type": "code",
   "execution_count": null,
   "metadata": {},
   "outputs": [],
   "source": [
    "view.update(scalarField=history.density[-1])"
   ]
  },
  {
   "cell_type": "code",
   "execution_count": null,
   "metadata": {},
   "outputs": [],
   "source": [
    "for density in history.density:\n",
    "    view.update(scalarField=density)\n",
    "    time.sleep(0.05)"
   ]
  },
  {
   "cell_type": "markdown",
   "metadata": {},
   "source": [
    "### Plot results\n",
    "Run first cell below to create a figure. The figure can be updated with new results, keeping the previously plotted lines. "
   ]
  },
  {
   "cell_type": "code",
   "execution_count": null,
   "metadata": {},
   "outputs": [],
   "source": [
    "# Create new figure\n",
    "fig, axes = plt.subplots(2, 1, figsize=(FIGSIZE[0], FIGSIZE[1]*1.2))\n",
    "plt.close()"
   ]
  },
  {
   "cell_type": "code",
   "execution_count": null,
   "metadata": {},
   "outputs": [],
   "source": [
    "# Update existing figure\n",
    "plotLegend = ''\n",
    "history.plotNondiscreteness(axes[0], plotLegend)\n",
    "history.plotObjective(axes[1])\n",
    "axes[0].legend()\n",
    "plt.close()"
   ]
  },
  {
   "cell_type": "code",
   "execution_count": null,
   "metadata": {},
   "outputs": [],
   "source": [
    "# Show figure\n",
    "fig"
   ]
  },
  {
   "cell_type": "code",
   "execution_count": null,
   "metadata": {},
   "outputs": [],
   "source": [
    "# Save figure\n",
    "plt.savefig(ADD_NAME_HERE + '.png', format='png', dpi=600)"
   ]
  },
  {
   "cell_type": "code",
   "execution_count": null,
   "metadata": {},
   "outputs": [],
   "source": [
    "# Delete figure\n",
    "if (\"fig\" in locals()) and (\"axes\" in locals()):\n",
    "    del fig, axes"
   ]
  },
  {
   "cell_type": "markdown",
   "metadata": {},
   "source": [
    "### Export result to `.msh`"
   ]
  },
  {
   "cell_type": "code",
   "execution_count": null,
   "metadata": {},
   "outputs": [],
   "source": [
    "# Export final density to .msh\n",
    "mfw = mesh.MSHFieldWriter(ADD_PATH_HERE + '.msh', *tps.getMesh())\n",
    "mfw.addField('density', history.density[-1])"
   ]
  },
  {
   "cell_type": "code",
   "execution_count": null,
   "metadata": {},
   "outputs": [],
   "source": [
    "# Export whole history to multiple .msh files (for animation recording)\n",
    "for iteration, density in enumerate(history.density):\n",
    "    mfw = mesh.MSHFieldWriter(ADD_PATH_HERE + 'iter' + str(iteration).zfill(4) + '.msh', *tps.getMesh())\n",
    "    mfw.addField('density', density)"
   ]
  }
 ],
 "metadata": {
  "kernelspec": {
   "display_name": "Python 3",
   "language": "python",
   "name": "python3"
  },
  "language_info": {
   "codemirror_mode": {
    "name": "ipython",
    "version": 3
   },
   "file_extension": ".py",
   "mimetype": "text/x-python",
   "name": "python",
   "nbconvert_exporter": "python",
   "pygments_lexer": "ipython3",
   "version": "3.6.10"
  }
 },
 "nbformat": 4,
 "nbformat_minor": 2
}
