{
 "cells": [
  {
   "cell_type": "code",
   "execution_count": null,
   "metadata": {},
   "outputs": [],
   "source": [
    "import sys\n",
    "sys.path.append('../')\n",
    "sys.path.append('../helpers')\n",
    "import pyVoxelFEM\n",
    "from tri_mesh_viewer import QuadHexViewer\n",
    "import MeshFEM, mesh\n",
    "from ipopt_helpers import initializeTensorProductSimulator, problemObjectWrapper, initializeIpoptProblem\n",
    "from debug_helpers import numericalDerivative, plotConvergence\n",
    "\n",
    "import numpy as np\n",
    "import matplotlib.pyplot as plt"
   ]
  },
  {
   "cell_type": "markdown",
   "metadata": {},
   "source": [
    "# Filters tests\n",
    "Run some iterations of TO (without AM constraints) to get a non trivial structure, then filter that structure and plot result."
   ]
  },
  {
   "cell_type": "code",
   "execution_count": null,
   "metadata": {},
   "outputs": [],
   "source": [
    "# Perform some iterations of the optimization with a TotalVolumeConstintProblem to get a non trivial density filed\n",
    "\n",
    "# Parameters\n",
    "MATERIAL_PATH = '../../examples/materials/B9Creator.material'\n",
    "BC_PATH = '../../examples/bcs/cantilever_flexion_E.bc'\n",
    "orderFEM = [1, 1]\n",
    "domainCorners = [[0, 0], [2, 1]]\n",
    "gridDimensions = [60, 30]\n",
    "E0 = 1\n",
    "Emin = 1e-9\n",
    "SIMPExponent = 3\n",
    "maxVolume = 0.6\n",
    "constraints = [pyVoxelFEM.TotalVolumeConstraint(maxVolume)]\n",
    "filters = [pyVoxelFEM.SmoothingFilter(), pyVoxelFEM.ProjectionFilter()]\n",
    "uniformDensity = maxVolume\n",
    "\n",
    "# Initialize TO problem\n",
    "tps = initializeTensorProductSimulator(\n",
    "    orderFEM, domainCorners, gridDimensions, uniformDensity, E0, Emin, SIMPExponent, MATERIAL_PATH, BC_PATH\n",
    ")\n",
    "objective = pyVoxelFEM.ComplianceObjective(tps)\n",
    "top = pyVoxelFEM.TopologyOptimizationProblem(tps, objective, constraints, filters)\n",
    "nonLinearProblem, history = initializeIpoptProblem(top)\n",
    "x0 = tps.getDensities()\n",
    "\n",
    "# Run some iterations to get a non trivial density field\n",
    "nonLinearProblem.addOption('max_iter', 30)\n",
    "nonLinearProblem.addOption('tol', 1e-12)\n",
    "x0, info = nonLinearProblem.solve(x0)\n",
    "\n",
    "view = QuadHexViewer(*tps.getMesh(), scalarField=np.ones(x0.shape))\n",
    "view.show()"
   ]
  },
  {
   "cell_type": "code",
   "execution_count": null,
   "metadata": {},
   "outputs": [],
   "source": [
    "# Reference density field\n",
    "view.update(scalarField=history.density[-1])"
   ]
  },
  {
   "cell_type": "code",
   "execution_count": null,
   "metadata": {},
   "outputs": [],
   "source": [
    "# Smoothing filter\n",
    "testRadius = 1\n",
    "smoothFilt = pyVoxelFEM.SmoothingFilter()\n",
    "pyVoxelFEM.TopologyOptimizationProblem(tps, objective, constraints, [smoothFilt]) # let TOP initialize filter's grid dimensions\n",
    "smoothFilt.radius = testRadius\n",
    "view.update(scalarField=pyVoxelFEM.applyFilter(smoothFilt, history.density[-1]))"
   ]
  },
  {
   "cell_type": "code",
   "execution_count": null,
   "metadata": {},
   "outputs": [],
   "source": [
    "# Projection filter\n",
    "testBeta = 4\n",
    "projFilt = pyVoxelFEM.ProjectionFilter()\n",
    "pyVoxelFEM.TopologyOptimizationProblem(tps, objective, constraints, [projFilt]) # let TOP initialize filter's grid dimensions\n",
    "projFilt.beta = testBeta\n",
    "view.update(scalarField=pyVoxelFEM.applyFilter(projFilt, history.density[-1]))"
   ]
  },
  {
   "cell_type": "code",
   "execution_count": null,
   "metadata": {},
   "outputs": [],
   "source": [
    "# Langelaar's filter\n",
    "langFilt = pyVoxelFEM.LangelaarFilter()\n",
    "pyVoxelFEM.TopologyOptimizationProblem(tps, objective, constraints, [langFilt]) # let TOP initialize filter's grid dimensions\n",
    "view.update(scalarField=pyVoxelFEM.applyFilter(langFilt, history.density[-1]))"
   ]
  },
  {
   "cell_type": "code",
   "execution_count": null,
   "metadata": {},
   "outputs": [],
   "source": [
    "# Export filtered densities\n",
    "mfw = mesh.MSHFieldWriter('../gmsh/Filters.msh', *tps.getMesh())\n",
    "mfw.addField('NoFilter', history.density[-1])\n",
    "mfw.addField('Smoothing', pyVoxelFEM.applyFilter(smoothFilt, history.density[-1]))\n",
    "mfw.addField('Projection', pyVoxelFEM.applyFilter(projFilt, history.density[-1]))\n",
    "mfw.addField('Langelaar', pyVoxelFEM.applyFilter(langFilt, history.density[-1]))\n",
    "del mfw"
   ]
  }
 ],
 "metadata": {
  "kernelspec": {
   "display_name": "Python 3",
   "language": "python",
   "name": "python3"
  },
  "language_info": {
   "codemirror_mode": {
    "name": "ipython",
    "version": 3
   },
   "file_extension": ".py",
   "mimetype": "text/x-python",
   "name": "python",
   "nbconvert_exporter": "python",
   "pygments_lexer": "ipython3",
   "version": "3.6.10"
  }
 },
 "nbformat": 4,
 "nbformat_minor": 2
}
