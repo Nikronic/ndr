{
 "cells": [
  {
   "cell_type": "code",
   "execution_count": null,
   "metadata": {},
   "outputs": [],
   "source": [
    "import sys\n",
    "sys.path.append('./helpers')\n",
    "import pyVoxelFEM\n",
    "from ipopt_helpers import initializeTensorProductSimulator, problemObjectWrapper\n",
    "from debug_helpers import numericalDerivative, plotConvergence\n",
    "\n",
    "import numpy as np\n",
    "import matplotlib.pyplot as plt"
   ]
  },
  {
   "cell_type": "markdown",
   "metadata": {},
   "source": [
    "# Numerical derivatives\n",
    "Use numerical differentiation to check the analytical form of the derivatives implemented in the code. Results are shown both in terms of numerical value and with error plots (numerical scheme is centered differences, so the error is expected to decrease as $h^2$)"
   ]
  },
  {
   "cell_type": "markdown",
   "metadata": {},
   "source": [
    "### TO problem derivatives\n",
    "Test **objective** and **constraints** derivatives"
   ]
  },
  {
   "cell_type": "code",
   "execution_count": null,
   "metadata": {},
   "outputs": [],
   "source": [
    "# 2D or 3D?\n",
    "DIM = 2\n",
    "\n",
    "# Parameters\n",
    "MATERIAL_PATH = '../examples/materials/B9Creator.material'\n",
    "if DIM == 2:\n",
    "    BC_PATH = '../examples/bcs/cantilever_flexion_E.bc'\n",
    "    orderFEM = [1, 1]\n",
    "    domainCorners = [[0, 0], [2, 1]]\n",
    "    gridDimensions = [16, 8]\n",
    "elif DIM == 3:\n",
    "    BC_PATH = '../examples/bcs/3D/cantilever_flexion_E.bc'\n",
    "    orderFEM = [1, 1, 1]\n",
    "    domainCorners = [[0, 0, 0], [2, 1, 1]]\n",
    "    gridDimensions = [8, 4, 4]\n",
    "    \n",
    "elementsNumber = int(np.prod(gridDimensions))\n",
    "E0 = 1\n",
    "Emin = 1e-9\n",
    "SIMPExponent = 3\n",
    "maxVolume = 0.6\n",
    "constraints = [\n",
    "    pyVoxelFEM.TotalVolumeConstraint(maxVolume)\n",
    "]\n",
    "smoothingRadius = 0\n",
    "filters = [\n",
    "    pyVoxelFEM.SmoothingFilter(),\n",
    "    pyVoxelFEM.ProjectionFilter(),\n",
    "    pyVoxelFEM.LangelaarFilter()\n",
    "]\n",
    "uniformDensity = maxVolume\n",
    "\n",
    "# Initialize TO problem\n",
    "tps = initializeTensorProductSimulator(\n",
    "    orderFEM, domainCorners, gridDimensions, uniformDensity, E0, Emin, SIMPExponent, MATERIAL_PATH, BC_PATH\n",
    ")\n",
    "objective = pyVoxelFEM.ComplianceObjective(tps)\n",
    "prob = pyVoxelFEM.TopologyOptimizationProblem(tps, objective, constraints, filters)\n",
    "x0 = tps.getDensities()\n",
    "\n",
    "# Wrap problem into ipopt interface to make sure of testing the actual object used by the optimizer\n",
    "ipoptProblemObj = problemObjectWrapper(prob)"
   ]
  },
  {
   "cell_type": "code",
   "execution_count": null,
   "metadata": {},
   "outputs": [],
   "source": [
    "# Check constraints jacobian\n",
    "x = tps.getDensities()\n",
    "increments = np.linspace(1e-4, 1e-2, 10)\n",
    "direction = np.zeros(x.size)\n",
    "variableIndex = 50\n",
    "direction[variableIndex] += 1\n",
    "\n",
    "print(\"Constraints jacobian, derivative w.r.t. \" + str(variableIndex) + \"-th density:\")\n",
    "print(\"Analytical:\", ipoptProblemObj.jacobian(x).dot(direction))\n",
    "print(\"Numerical: \", numericalDerivative(ipoptProblemObj.constraints, x, increments[0], direction))\n",
    "title = \"Constraint jacobian: numerical derivative check\"\n",
    "plotConvergence(ipoptProblemObj.constraints, x, increments, direction, ipoptProblemObj.jacobian(x).dot(direction), title)"
   ]
  },
  {
   "cell_type": "code",
   "execution_count": null,
   "metadata": {},
   "outputs": [],
   "source": [
    "# Check objective gradient\n",
    "x = tps.getDensities()\n",
    "increments = np.linspace(1e-4, 1e-2, 10)\n",
    "direction = np.zeros(x.shape[0])\n",
    "variableIndex = 50\n",
    "direction[variableIndex] += 1\n",
    "\n",
    "print(\"Objective gradient, derivative w.r.t. \" + str(variableIndex) + \"-th density:\")\n",
    "print(\"Analytical:\", ipoptProblemObj.gradient(x).dot(direction))\n",
    "print(\"Numerical: \", numericalDerivative(ipoptProblemObj.objective, x, increments[0], direction))\n",
    "title = \"Objective gradient: numerical derivative check\"\n",
    "plotConvergence(ipoptProblemObj.objective, x, increments, direction, ipoptProblemObj.gradient(x).dot(direction), title)"
   ]
  }
 ],
 "metadata": {
  "kernelspec": {
   "display_name": "Python 3",
   "language": "python",
   "name": "python3"
  },
  "language_info": {
   "codemirror_mode": {
    "name": "ipython",
    "version": 3
   },
   "file_extension": ".py",
   "mimetype": "text/x-python",
   "name": "python",
   "nbconvert_exporter": "python",
   "pygments_lexer": "ipython3",
   "version": "3.6.10"
  }
 },
 "nbformat": 4,
 "nbformat_minor": 2
}
