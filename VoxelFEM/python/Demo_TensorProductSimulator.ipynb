{
 "cells": [
  {
   "cell_type": "code",
   "execution_count": null,
   "metadata": {},
   "outputs": [],
   "source": [
    "import pyVoxelFEM\n",
    "import MeshFEM, mesh\n",
    "import numpy as np\n",
    "import matplotlib.pyplot as plt\n",
    "from tri_mesh_viewer import QuadHexViewer"
   ]
  },
  {
   "cell_type": "markdown",
   "metadata": {},
   "source": [
    "# TensorProductSimulator\n",
    "This notebook shows how to define a linear elastic problem on a hexahedral domain and how to initialize a simulator to solve it."
   ]
  },
  {
   "cell_type": "code",
   "execution_count": null,
   "metadata": {},
   "outputs": [],
   "source": [
    "# 2D or 3D?\n",
    "DIM = 3\n",
    "\n",
    "# Material and \"boundary conditions\" (can be imposed also inside the domain) are read from file\n",
    "MATERIAL_PATH = '../examples/materials/B9Creator.material'\n",
    "if DIM == 2:\n",
    "    BC_PATH = '../examples/bcs/cantilever_flexion_E.bc'\n",
    "elif DIM == 3:\n",
    "    BC_PATH = '../examples/bcs/3D/cantilever_flexion_E.bc'\n",
    "\n",
    "# Domain and mesh definition\n",
    "if DIM == 2:\n",
    "    orderFEM = [1, 1]    # available: [1, 1] or [2, 2]\n",
    "    domainCorners = [[0, 0], [2, 1]]\n",
    "    gridDimensions = [4, 2]\n",
    "elif DIM == 3:\n",
    "    orderFEM = [1, 1, 1] # available: [1, 1, 1] or [2, 2, 2]\n",
    "    domainCorners = [[0, 0, 0], [2, 1, 1]]\n",
    "    gridDimensions = [4, 2, 2]\n",
    "\n",
    "# Initialize simulator, define material and apply external constraints\n",
    "tps = pyVoxelFEM.TensorProductSimulator(orderFEM, domainCorners, gridDimensions)\n",
    "tps.readMaterial(MATERIAL_PATH)\n",
    "tps.applyDisplacementsAndLoadsFromFile(BC_PATH)\n",
    "\n",
    "# Update densities\n",
    "uniformDensity = 1.0\n",
    "tps.setUniformDensities(uniformDensity)\n",
    "tps.setElementDensity(1, 0)"
   ]
  },
  {
   "cell_type": "code",
   "execution_count": null,
   "metadata": {},
   "outputs": [],
   "source": [
    "# Get some TPS info\n",
    "print(\"Densities: \\n\", tps.getDensities(), end='\\n\\n')\n",
    "elemIndex = (np.array(gridDimensions)/2).astype(int)\n",
    "print(\"Index of element in position \" + str(elemIndex) + \": \\n\", tps.elementIndexForGridCell(elemIndex), end='\\n\\n')\n",
    "print(\"Number of elements: \\n\", tps.numElements())"
   ]
  },
  {
   "cell_type": "code",
   "execution_count": null,
   "metadata": {
    "scrolled": false
   },
   "outputs": [],
   "source": [
    "# Show domain with the defined density distribution\n",
    "view = QuadHexViewer(*tps.getMesh(), scalarField=tps.getDensities())\n",
    "view.show()"
   ]
  },
  {
   "cell_type": "code",
   "execution_count": null,
   "metadata": {},
   "outputs": [],
   "source": [
    "# Show imposed displacements\n",
    "view.update(scalarField=tps.getDisplacementsIndicators())"
   ]
  },
  {
   "cell_type": "code",
   "execution_count": null,
   "metadata": {},
   "outputs": [],
   "source": [
    "# Show external forces\n",
    "view.update(scalarField=tps.getForcesIndicators())"
   ]
  },
  {
   "cell_type": "code",
   "execution_count": null,
   "metadata": {},
   "outputs": [],
   "source": [
    "# Solve the elastic problem\n",
    "u = tps.solveWithImposedLoads()"
   ]
  },
  {
   "cell_type": "code",
   "execution_count": null,
   "metadata": {},
   "outputs": [],
   "source": [
    "# Export mesh and solution to `.msh` file\n",
    "mfw = mesh.MSHFieldWriter('test.msh', *tps.getMesh())\n",
    "mfw.addField('Density', tps.getDensities())\n",
    "mfw.addField('u', u)\n",
    "del mfw"
   ]
  }
 ],
 "metadata": {
  "kernelspec": {
   "display_name": "Python 3",
   "language": "python",
   "name": "python3"
  },
  "language_info": {
   "codemirror_mode": {
    "name": "ipython",
    "version": 3
   },
   "file_extension": ".py",
   "mimetype": "text/x-python",
   "name": "python",
   "nbconvert_exporter": "python",
   "pygments_lexer": "ipython3",
   "version": "3.6.10"
  }
 },
 "nbformat": 4,
 "nbformat_minor": 4
}
