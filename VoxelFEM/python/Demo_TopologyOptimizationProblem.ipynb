{
 "cells": [
  {
   "cell_type": "code",
   "execution_count": null,
   "metadata": {},
   "outputs": [],
   "source": [
    "import pyVoxelFEM\n",
    "import MeshFEM, mesh\n",
    "import numpy as np\n",
    "import matplotlib.pyplot as plt\n",
    "from tri_mesh_viewer import QuadHexViewer\n",
    "import cyipopt as ipopt\n",
    "import time\n",
    "import copy\n",
    "import benchmark\n",
    "\n",
    "# Helpers\n",
    "import sys\n",
    "sys.path.append('./helpers')\n",
    "from ipopt_helpers import initializeTensorProductSimulator, problemObjectWrapper, initializeIpoptProblem"
   ]
  },
  {
   "cell_type": "markdown",
   "metadata": {},
   "source": [
    "# TO problem DEMO"
   ]
  },
  {
   "cell_type": "code",
   "execution_count": null,
   "metadata": {},
   "outputs": [],
   "source": [
    "import parallelism, psutil\n",
    "parallelism.set_max_num_tbb_threads(psutil.cpu_count(logical=False))\n",
    "parallelism.set_gradient_assembly_num_threads(min(psutil.cpu_count(logical=False), 8))"
   ]
  },
  {
   "cell_type": "code",
   "execution_count": null,
   "metadata": {},
   "outputs": [],
   "source": [
    "# 2D or 3D?\n",
    "DIM = 3\n",
    "useMultigrid = True\n",
    "\n",
    "# Material and \"boundary conditions\" (can be imposed also inside the domain) are read from file\n",
    "MATERIAL_PATH = '../examples/materials/B9Creator.material'\n",
    "if DIM == 2:\n",
    "    BC_PATH = '../examples/bcs/cantilever_flexion_E.bc'     # 2D cantilever configuration\n",
    "elif DIM == 3:\n",
    "    BC_PATH = '../examples/bcs/3D/cantilever_flexion_E.bc'  # 3D cantilever configuration\n",
    "\n",
    "# Simulator\n",
    "if DIM == 2:\n",
    "    orderFEM = [1, 1]\n",
    "    domainCorners = [[0, 0], [2, 1]]\n",
    "    #gridDimensions = [192, 96]\n",
    "    #gridDimensions = [384, 192]\n",
    "    gridDimensions = [768, 384]\n",
    "    #gridDimensions = [1600, 800]\n",
    "elif DIM == 3:\n",
    "    orderFEM = [1, 1, 1]\n",
    "    domainCorners = [[0, 0, 0], [2, 1, 1]]\n",
    "    #gridDimensions = [128, 64, 64]\n",
    "    gridDimensions = [256, 128, 128]\n",
    "    #gridDimensions = [512, 256, 128]\n",
    "E0 = 1\n",
    "Emin = 1e-4\n",
    "SIMPExponent = 3\n",
    "\n",
    "# Constraints\n",
    "maxVolume = 0.6\n",
    "constraints = [pyVoxelFEM.TotalVolumeConstraint(maxVolume)]\n",
    "\n",
    "# Filters: comment a line to remove the corresponding filter\n",
    "filters = [\n",
    "    pyVoxelFEM.SmoothingFilter(),\n",
    "    pyVoxelFEM.ProjectionFilter(),\n",
    "#     pyVoxelFEM.LangelaarFilter()\n",
    "]\n",
    "\n",
    "# Topology Optimization problem\n",
    "uniformDensity = maxVolume"
   ]
  },
  {
   "cell_type": "code",
   "execution_count": null,
   "metadata": {},
   "outputs": [],
   "source": [
    "benchmark.reset()\n",
    "# Initializations\n",
    "tps = initializeTensorProductSimulator(\n",
    "    orderFEM, domainCorners, gridDimensions, uniformDensity, E0, Emin, SIMPExponent, MATERIAL_PATH, BC_PATH\n",
    ")\n",
    "objective = pyVoxelFEM.MultigridComplianceObjective(tps.multigridSolver(3)) if useMultigrid \\\n",
    "            else pyVoxelFEM.ComplianceObjective(tps)\n",
    "benchmark.report()"
   ]
  },
  {
   "cell_type": "code",
   "execution_count": null,
   "metadata": {},
   "outputs": [],
   "source": [
    "top = pyVoxelFEM.TopologyOptimizationProblem(tps, objective, constraints, filters) # TO problem\n",
    "nonLinearProblem, history = initializeIpoptProblem(top)                            # Wrap problem for the optimizer\n",
    "x0 = tps.getDensities()                                                            # Starting guess (uniform)\n",
    "top.setVars(x0);"
   ]
  },
  {
   "cell_type": "code",
   "execution_count": null,
   "metadata": {},
   "outputs": [],
   "source": [
    "if useMultigrid:\n",
    "    # Configure multigrid objective\n",
    "    objective.tol = 1e-4\n",
    "    objective.mgIterations = 1\n",
    "    objective.mgSmoothingIterations = 2\n",
    "    objective.fullMultigrid = True"
   ]
  },
  {
   "cell_type": "code",
   "execution_count": null,
   "metadata": {},
   "outputs": [],
   "source": [
    "benchmarkSolves = False\n",
    "if useMultigrid and benchmarkSolves:\n",
    "    mg = tps.multigridSolver(2)\n",
    "    benchmark.reset()\n",
    "    mg.preconditionedConjugateGradient(np.zeros_like(tps.buildLoadVector()), tps.buildLoadVector(), maxIter=100, tol=1e-9, mgSmoothingIterations=2, mgIterations=1, fullMultigrid = True)\n",
    "    benchmark.report()\n",
    "    \n",
    "    #tps.clearCachedElementStiffness()\n",
    "    #benchmark.reset()\n",
    "    #tps.solve(tps.buildLoadVector())\n",
    "    #benchmark.report()"
   ]
  },
  {
   "cell_type": "code",
   "execution_count": null,
   "metadata": {},
   "outputs": [],
   "source": [
    "# Finite difference validation\n",
    "import fd_validation, benchmark\n",
    "\n",
    "class FDValidationWrapper:\n",
    "    def __init__(self, top): self.top = top\n",
    "    def numVars(self): return top.numVars()\n",
    "    def getVars(self): return top.getVars()\n",
    "    def setVars(self, x): self.top.setVars(x)\n",
    "    def energy(self): return self.top.evaluateObjective()\n",
    "    def gradient(self): return self.top.evaluateObjectiveGradient()\n",
    "    def energy(self): return self.top.evaluateConstraints()[0]\n",
    "    def gradient(self): return self.top.evaluateConstraintsJacobian()[0]\n",
    "\n",
    "# fd_validation.gradConvergencePlot(FDValidationWrapper(top))"
   ]
  },
  {
   "cell_type": "markdown",
   "metadata": {},
   "source": [
    "## Run optimization"
   ]
  },
  {
   "cell_type": "code",
   "execution_count": null,
   "metadata": {},
   "outputs": [],
   "source": [
    "max_iters = 100\n",
    "algorithm = 'OC' # 'OC' or 'LBFGS'"
   ]
  },
  {
   "cell_type": "code",
   "execution_count": null,
   "metadata": {},
   "outputs": [],
   "source": [
    "if (algorithm == 'OC'):\n",
    "    oco = pyVoxelFEM.OCOptimizer(top)\n",
    "    benchmark.reset()\n",
    "    for i in range(max_iters):\n",
    "        history.density.append(top.getDensities())\n",
    "        oco.step()\n",
    "    benchmark.report()\n",
    "elif (algorithm == 'LBFGS'):\n",
    "    # Stopping criteria\n",
    "    nonLinearProblem.addOption('max_iter', 200)\n",
    "    nonLinearProblem.addOption('tol', 1e-10)\n",
    "\n",
    "    # Optimize\n",
    "    benchmark.reset()\n",
    "    x0, info = nonLinearProblem.solve(x0)\n",
    "    benchmark.report()\n",
    "else: raise Exception('Unknown algorithm')"
   ]
  },
  {
   "cell_type": "code",
   "execution_count": null,
   "metadata": {},
   "outputs": [],
   "source": [
    "benchmark.report()"
   ]
  },
  {
   "cell_type": "code",
   "execution_count": null,
   "metadata": {},
   "outputs": [],
   "source": [
    "# Domain view \n",
    "view = QuadHexViewer(*tps.getMesh(), scalarField=tps.getDensities())"
   ]
  },
  {
   "cell_type": "code",
   "execution_count": null,
   "metadata": {},
   "outputs": [],
   "source": [
    "view.show()"
   ]
  },
  {
   "cell_type": "code",
   "execution_count": null,
   "metadata": {},
   "outputs": [],
   "source": [
    "# Dynamically update view using optimization history\n",
    "for density in history.density:\n",
    "    view.update(scalarField=density)\n",
    "    time.sleep(0.05)"
   ]
  },
  {
   "cell_type": "code",
   "execution_count": null,
   "metadata": {},
   "outputs": [],
   "source": [
    "def updateSimulation(f = -1):\n",
    "    u = tps.solveWithImposedLoads()\n",
    "    m = tri_mesh_viewer.QuadHexMeshWrapper(*tps.getMesh())\n",
    "    X = m.V.copy()\n",
    "    m.V = np.array(X + 0.25 * np.pad(u, [(0, 0), (0, 1)]), dtype=np.float32)\n",
    "    view.update(mesh=m, vectorField=np.pad(Ku, [(0, 0), (0, 1)]), scalarField=tps.getDensities())\n",
    "    if (f >= 0):\n",
    "        orender = view.offscreenRenderer(2048, 2048)\n",
    "        orender.transparentBackground = False\n",
    "        orender.render()\n",
    "        orender.save(f'frame_{f}.png')"
   ]
  },
  {
   "cell_type": "code",
   "execution_count": null,
   "metadata": {},
   "outputs": [],
   "source": [
    "for f, alpha in enumerate(np.linspace(0, 1.0, 60)):\n",
    "    for i, d in enumerate(densities.ravel()):\n",
    "        tps.setElementDensity(i, -((1 - alpha) * d +  alpha * np.round(d)))\n",
    "    updateSimulation(f)"
   ]
  },
  {
   "cell_type": "code",
   "execution_count": null,
   "metadata": {},
   "outputs": [],
   "source": [
    "for i, d in enumerate(densities.ravel()):\n",
    "    tps.setElementDensity(i, -d)\n",
    "updateSimulation()"
   ]
  },
  {
   "cell_type": "code",
   "execution_count": null,
   "metadata": {},
   "outputs": [],
   "source": [
    "m = tri_mesh_viewer.QuadHexMeshWrapper(*tps.getMesh())\n",
    "X = m.V.copy()"
   ]
  },
  {
   "cell_type": "code",
   "execution_count": null,
   "metadata": {},
   "outputs": [],
   "source": [
    "m.V = np.array(X + 0.25 * np.pad(u, [(0, 0), (0, 1)]), dtype=np.float32)"
   ]
  },
  {
   "cell_type": "code",
   "execution_count": null,
   "metadata": {},
   "outputs": [],
   "source": [
    "view.update(mesh=m, vectorField=np.pad(Ku, [(0, 0), (0, 1)]), scalarField=tps.getDensities())"
   ]
  },
  {
   "cell_type": "markdown",
   "metadata": {},
   "source": [
    "### Modify filters\n",
    "Run the cells below to change filters parameters. Then, restart optimization."
   ]
  },
  {
   "cell_type": "code",
   "execution_count": null,
   "metadata": {},
   "outputs": [],
   "source": [
    "# Modify smoothing radius (in all smoothing filters of the filters chain)\n",
    "newSmoothingRadius = 0.5\n",
    "for filt in filters:\n",
    "    if type(filt) == pyVoxelFEM.SmoothingFilter:\n",
    "        filt.radius = newSmoothingRadius"
   ]
  },
  {
   "cell_type": "code",
   "execution_count": null,
   "metadata": {},
   "outputs": [],
   "source": [
    "# Modify projection steepness (in all projection filters of the filters chain)\n",
    "newBeta = 4\n",
    "for filt in filters:\n",
    "    if type(filt) == pyVoxelFEM.ProjectionFilter:\n",
    "        filt.beta = newBeta"
   ]
  },
  {
   "cell_type": "markdown",
   "metadata": {},
   "source": [
    "### Export to `.msh`"
   ]
  },
  {
   "cell_type": "code",
   "execution_count": null,
   "metadata": {},
   "outputs": [],
   "source": [
    "BASE_PATH='out'\n",
    "PATH=BASE_PATH + '.msh'"
   ]
  },
  {
   "cell_type": "code",
   "execution_count": null,
   "metadata": {},
   "outputs": [],
   "source": [
    "# Export final density to .msh\n",
    "mfw = mesh.MSHFieldWriter(PATH, *tps.getMesh())\n",
    "mfw.addField('density', tps.getDensities())"
   ]
  },
  {
   "cell_type": "code",
   "execution_count": null,
   "metadata": {},
   "outputs": [],
   "source": [
    "# Export whole history to a single .msh (for manual visualization)\n",
    "mfw = mesh.MSHFieldWriter(PATH, *tps.getMesh())\n",
    "for iteration, density in enumerate(history.density):\n",
    "    mfw.addField('iter' + str(iteration), density)"
   ]
  },
  {
   "cell_type": "code",
   "execution_count": null,
   "metadata": {},
   "outputs": [],
   "source": [
    "# Export whole history to multiple .msh files (for animation recording)\n",
    "for iteration, density in enumerate(history.density):\n",
    "    mfw = mesh.MSHFieldWriter(BASE_PATH + 'iter' + str(iteration).zfill(4) + '.msh', *tps.getMesh())\n",
    "    mfw.addField('density', density)"
   ]
  },
  {
   "cell_type": "markdown",
   "metadata": {},
   "source": [
    "### Plot metrics history"
   ]
  },
  {
   "cell_type": "code",
   "execution_count": null,
   "metadata": {},
   "outputs": [],
   "source": [
    "history.plotObjective()"
   ]
  },
  {
   "cell_type": "code",
   "execution_count": null,
   "metadata": {},
   "outputs": [],
   "source": [
    "history.plotNondiscreteness()"
   ]
  }
 ],
 "metadata": {
  "kernelspec": {
   "display_name": "Python 3",
   "language": "python",
   "name": "python3"
  },
  "language_info": {
   "codemirror_mode": {
    "name": "ipython",
    "version": 3
   },
   "file_extension": ".py",
   "mimetype": "text/x-python",
   "name": "python",
   "nbconvert_exporter": "python",
   "pygments_lexer": "ipython3",
   "version": "3.8.10"
  }
 },
 "nbformat": 4,
 "nbformat_minor": 4
}
